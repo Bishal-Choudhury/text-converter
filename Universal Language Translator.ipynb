{
 "cells": [
  {
   "cell_type": "code",
   "execution_count": 1,
   "id": "b1876e0d",
   "metadata": {},
   "outputs": [
    {
     "name": "stdout",
     "output_type": "stream",
     "text": [
      "Requirement already satisfied: googletrans==4.0.0-rc1 in d:\\ml\\anaconda\\lib\\site-packages (4.0.0rc1)\n",
      "Requirement already satisfied: httpx==0.13.3 in d:\\ml\\anaconda\\lib\\site-packages (from googletrans==4.0.0-rc1) (0.13.3)\n",
      "Requirement already satisfied: certifi in d:\\ml\\anaconda\\lib\\site-packages (from httpx==0.13.3->googletrans==4.0.0-rc1) (2023.7.22)\n",
      "Requirement already satisfied: hstspreload in d:\\ml\\anaconda\\lib\\site-packages (from httpx==0.13.3->googletrans==4.0.0-rc1) (2023.1.1)\n",
      "Requirement already satisfied: sniffio in d:\\ml\\anaconda\\lib\\site-packages (from httpx==0.13.3->googletrans==4.0.0-rc1) (1.2.0)\n",
      "Requirement already satisfied: chardet==3.* in d:\\ml\\anaconda\\lib\\site-packages (from httpx==0.13.3->googletrans==4.0.0-rc1) (3.0.4)\n",
      "Requirement already satisfied: idna==2.* in d:\\ml\\anaconda\\lib\\site-packages (from httpx==0.13.3->googletrans==4.0.0-rc1) (2.10)\n",
      "Requirement already satisfied: rfc3986<2,>=1.3 in d:\\ml\\anaconda\\lib\\site-packages (from httpx==0.13.3->googletrans==4.0.0-rc1) (1.5.0)\n",
      "Requirement already satisfied: httpcore==0.9.* in d:\\ml\\anaconda\\lib\\site-packages (from httpx==0.13.3->googletrans==4.0.0-rc1) (0.9.1)\n",
      "Requirement already satisfied: h11<0.10,>=0.8 in d:\\ml\\anaconda\\lib\\site-packages (from httpcore==0.9.*->httpx==0.13.3->googletrans==4.0.0-rc1) (0.9.0)\n",
      "Requirement already satisfied: h2==3.* in d:\\ml\\anaconda\\lib\\site-packages (from httpcore==0.9.*->httpx==0.13.3->googletrans==4.0.0-rc1) (3.2.0)\n",
      "Requirement already satisfied: hyperframe<6,>=5.2.0 in d:\\ml\\anaconda\\lib\\site-packages (from h2==3.*->httpcore==0.9.*->httpx==0.13.3->googletrans==4.0.0-rc1) (5.2.0)\n",
      "Requirement already satisfied: hpack<4,>=3.0 in d:\\ml\\anaconda\\lib\\site-packages (from h2==3.*->httpcore==0.9.*->httpx==0.13.3->googletrans==4.0.0-rc1) (3.0.0)\n",
      "Requirement already satisfied: googletransx in d:\\ml\\anaconda\\lib\\site-packages (2.4.2)\n",
      "Requirement already satisfied: requests in d:\\ml\\anaconda\\lib\\site-packages (from googletransx) (2.31.0)\n",
      "Requirement already satisfied: charset-normalizer<4,>=2 in d:\\ml\\anaconda\\lib\\site-packages (from requests->googletransx) (2.0.4)\n",
      "Requirement already satisfied: idna<4,>=2.5 in d:\\ml\\anaconda\\lib\\site-packages (from requests->googletransx) (2.10)\n",
      "Requirement already satisfied: urllib3<3,>=1.21.1 in d:\\ml\\anaconda\\lib\\site-packages (from requests->googletransx) (1.26.16)\n",
      "Requirement already satisfied: certifi>=2017.4.17 in d:\\ml\\anaconda\\lib\\site-packages (from requests->googletransx) (2023.7.22)\n"
     ]
    }
   ],
   "source": [
    "!pip install --upgrade googletrans==4.0.0-rc1\n",
    "!pip install googletransx"
   ]
  },
  {
   "cell_type": "code",
   "execution_count": 2,
   "id": "cd3a6734",
   "metadata": {},
   "outputs": [],
   "source": [
    "from tkinter import *\n",
    "from tkinter import ttk\n",
    "from googletrans import Translator, LANGUAGES"
   ]
  },
  {
   "cell_type": "code",
   "execution_count": 3,
   "id": "116c2437",
   "metadata": {},
   "outputs": [],
   "source": [
    "root = Tk()\n",
    "root.geometry('1100x320')\n",
    "root.resizable(0,0)\n",
    "#root.iconbitmap('')\n",
    "root['bg'] = 'black'\n",
    "\n",
    "root.title('Universal Language Translator')\n",
    "Label(root, text = \"Language Translator\", font = \"Arial 20 bold\").pack()"
   ]
  },
  {
   "cell_type": "code",
   "execution_count": 4,
   "id": "92a645e0",
   "metadata": {},
   "outputs": [],
   "source": [
    "Label(root, text = \"Enter Text\", font = 'Arial 13 bold', bg = 'white smoke').place(x=165, y=90)"
   ]
  },
  {
   "cell_type": "code",
   "execution_count": 5,
   "id": "af1b60cb",
   "metadata": {},
   "outputs": [
    {
     "data": {
      "text/plain": [
       "''"
      ]
     },
     "execution_count": 5,
     "metadata": {},
     "output_type": "execute_result"
    }
   ],
   "source": [
    "Input_text = Entry(root, width=60)\n",
    "Input_text.place(x=30, y=130)\n",
    "Input_text.get()"
   ]
  },
  {
   "cell_type": "code",
   "execution_count": null,
   "id": "cb085069",
   "metadata": {},
   "outputs": [],
   "source": [
    "Label(root, text = \"Output\", font = 'Arial 13 bold', bg = 'white smoke').place(x=780, y=90)\n",
    "Output_text = Text(root, font='arial 15', height=5, wrap=WORD, padx=5, pady=5, width=50)\n",
    "Output_text.place(x=625, y=130)\n",
    "\n",
    "language = list(LANGUAGES.values())\n",
    "\n",
    "dest_lang = ttk.Combobox(root, values = language, width = 22)\n",
    "dest_lang.place(x=130, y=160)\n",
    "dest_lang.set('Choose Language')\n",
    "\n",
    "def Translate():\n",
    "    translator = Translator()\n",
    "    translated = translator.translate(text=Input_text.get(), dest=dest_lang.get())\n",
    "    Output_text.delete(1.0, END)\n",
    "    Output_text.insert(END, translated.text)\n",
    "\n",
    "trans_btn = Button(root, text='Translate', font='arial 12 bold', pady=5, command = Translate, bg='orange', activebackground='green')\n",
    "trans_btn.place(x=445, y=180)\n",
    "    \n",
    "root.mainloop()"
   ]
  },
  {
   "cell_type": "code",
   "execution_count": null,
   "id": "e0a50c1c",
   "metadata": {},
   "outputs": [],
   "source": []
  }
 ],
 "metadata": {
  "kernelspec": {
   "display_name": "Python 3 (ipykernel)",
   "language": "python",
   "name": "python3"
  },
  "language_info": {
   "codemirror_mode": {
    "name": "ipython",
    "version": 3
   },
   "file_extension": ".py",
   "mimetype": "text/x-python",
   "name": "python",
   "nbconvert_exporter": "python",
   "pygments_lexer": "ipython3",
   "version": "3.11.5"
  }
 },
 "nbformat": 4,
 "nbformat_minor": 5
}
